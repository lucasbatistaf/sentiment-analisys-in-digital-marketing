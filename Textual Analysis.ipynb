{
 "cells": [
  {
   "cell_type": "markdown",
   "metadata": {},
   "source": [
    "# Textual Analysis"
   ]
  },
  {
   "cell_type": "code",
   "execution_count": null,
   "metadata": {},
   "outputs": [],
   "source": [
    "# imports\n",
    "from collections import Counter\n",
    "import pandas as pd"
   ]
  },
  {
   "cell_type": "code",
   "execution_count": null,
   "metadata": {},
   "outputs": [],
   "source": [
    "dataset = pd.read_csv('./Post Cleaning Datasets/dataset_1_no_stopword_lemma.csv')"
   ]
  },
  {
   "cell_type": "code",
   "execution_count": null,
   "metadata": {},
   "outputs": [],
   "source": [
    "# carrega o dataset e exclui a coluna 'sentimento'\n",
    "datasetText = dataset.copy()\n",
    "datasetText = datasetText.drop(columns=\"sentimento\", axis=1)\n",
    "\n",
    "datasetText.head()"
   ]
  },
  {
   "cell_type": "code",
   "execution_count": null,
   "metadata": {},
   "outputs": [],
   "source": [
    "#gambiarra pra transformar a lista de palavras em uma unica string kkkkkkkkkkkkk\n",
    "datasetText['comentarios'] = datasetText['comentarios'].apply(eval).apply(' '.join)    \n",
    "\n",
    "datasetText.head()"
   ]
  },
  {
   "cell_type": "code",
   "execution_count": null,
   "metadata": {},
   "outputs": [],
   "source": [
    "# Cria um contador de palavras a fim de averiguar a frequencia da mesma\n",
    "#results = Counter()\n",
    "\n",
    "#datasetText['comentarios'].apply(lambda x: results.update(x.split()))\n",
    "\n",
    "# Cria um dataframe com as palvras e suas frequencias, em ordem decrescente de frequencia e troca o nome das colunas\n",
    "#datasetWords = pd.DataFrame(results.most_common(), columns =['Words', 'Frequency'])\n",
    "\n",
    "#print(datasetWords)"
   ]
  },
  {
   "cell_type": "code",
   "execution_count": null,
   "metadata": {},
   "outputs": [],
   "source": [
    "# calcula a frenquencia de cada palavra\n",
    "#totalFrequency = datasetWords['Frequency'].sum()\n",
    "\n",
    "# divide cada linha pelo número total de frequencia das palavras \n",
    "#datasetWords['Weighted Percentage'] = ((datasetWords['Frequency'].div(totalFrequency))*100)\n",
    "\n",
    "#datasetWords"
   ]
  },
  {
   "cell_type": "markdown",
   "metadata": {},
   "source": [
    "### Tópicos e biblioteca de palavras similares aos tópicos"
   ]
  },
  {
   "cell_type": "markdown",
   "metadata": {},
   "source": [
    "Lista de tópicos e definição de palavras semelhantes\n",
    "esta parte do algoritmo tem como objetivo contar quantas palavras semelhantes aos tópicos existem, afim de verificar a importancia do tópico escolhido eo seu peso calculado em todo o dataset\n",
    "\n"
   ]
  },
  {
   "cell_type": "markdown",
   "metadata": {},
   "source": [
    "Identificação dos tópicos e criação dos dicionários de sinonimos"
   ]
  },
  {
   "cell_type": "code",
   "execution_count": null,
   "metadata": {},
   "outputs": [],
   "source": [
    "# Topicos positivo:\n",
    "# Recebi antes, entrega rápida, entrega no prazo e antes do prazo \n",
    "entrega_prazo = ['recebir bem', \n",
    "                 'recebir antes',\n",
    "                 'entrega antes',\n",
    "                 'entregar antes',\n",
    "                 'entrega rápido', \n",
    "                 'entregar rápido',                 \n",
    "                 'entrega prazo',                 \n",
    "                 'entregar prazo', \n",
    "                 'entrega dentro',\n",
    "                 'entregar dentro',\n",
    "                 'rápido entregar', \n",
    "                 'antes prazo', \n",
    "                 'prazo antes',\n",
    "                 'prazo entregar']\n",
    "\n",
    "produto_qualidadeBoa = ['produto bom',\n",
    "                        'produto bem',\n",
    "                        'produto qualidade',\n",
    "                        'produto excelente',\n",
    "                        'produto exatamente',\n",
    "                        'produto perfeito',\n",
    "                        'produto ótimo',\n",
    "                        'produto super',\n",
    "                        'produto maravilhoso',\n",
    "                        'amei produto',\n",
    "                        'super produto',\n",
    "                        'gostar produto',\n",
    "                        'recomendar produto',\n",
    "                        'produto bem',\n",
    "                        'bom produto',\n",
    "                        'otimo produto',\n",
    "                        'recomendo produto']\n",
    "\n",
    "elogio_loja =  ['excelente loja',\n",
    "                'otima loja',\n",
    "                'ótima loja',\n",
    "                'recomendar loja',\n",
    "                'bom loja',\n",
    "                'ótimo loja',\n",
    "                'otimo loja',\n",
    "                'loja maravilhosa',\n",
    "                'gostar loja',\n",
    "                'bom atendimento',\n",
    "                'atendimento bom',\n",
    "                'loja boa',\n",
    "                'loja bom',\n",
    "                'loja honesto',\n",
    "                'loja confiável',\n",
    "                'loja confiavel',\n",
    "                'loja eficiente',\n",
    "                'loja atender']\n"
   ]
  },
  {
   "cell_type": "code",
   "execution_count": null,
   "metadata": {},
   "outputs": [],
   "source": [
    "\n",
    "# Topicos negativos:\n",
    "entrega_atrasada = ['entrega atrasar',\n",
    "                    'entrega atraso',\n",
    "                    'atraso entregar',\n",
    "                    'atrasar entregar',\n",
    "                    'atraso produto',\n",
    "                    'atrasar produto',\n",
    "                    'produto atraso',\n",
    "                    'produto atrasar',\n",
    "                    'produto demorar',\n",
    "                    'demorar produto',\n",
    "                    'demorar entrega',\n",
    "                    'demorar entregar',\n",
    "                    'entrega demorar',\n",
    "                    'entregar demorar']\n",
    "\n",
    "produto_baixa_qualidade = ['produto ruim',\n",
    "                           'produto péssimo',\n",
    "                           'ruim produto',\n",
    "                           'péssimo produto',\n",
    "                           'produto não original',\n",
    "                           'produto diferente',\n",
    "                           'produto fraco',\n",
    "                           'produto defeito',\n",
    "                           'produto vir errar',\n",
    "                           'produto errar',\n",
    "                           'produto não',\n",
    "                           'produto inferior',]\n",
    "\n",
    "produto_errado = ['não recebir',\n",
    "                  'errar produto',\n",
    "                  'produto errar',\n",
    "                  'encomenda errar',\n",
    "                  'errar encomenda',\n",
    "                  'entregar errar',\n",
    "                  'vir errar',\n",
    "                  'trocar']\n"
   ]
  },
  {
   "cell_type": "code",
   "execution_count": null,
   "metadata": {},
   "outputs": [],
   "source": [
    "\n",
    "# Topicos neutros:\n",
    "produto_problema = ['defeito produto',\n",
    "                    'errar produto',\n",
    "                    'produto errar',\n",
    "                    'produto defeito',\n",
    "                    'produto quebrar',\n",
    "                    'encomenda errar',\n",
    "                    'errar encomenda',\n",
    "                    'entregar errar',\n",
    "                    'vir errar',\n",
    "                    'devolver produto']\n",
    "\n",
    "entrega_demorada = ['ainda não',\n",
    "                    'ainda nao',\n",
    "                    'entregar problema',\n",
    "                    'problema entregar',\n",
    "                    'encomenda não',\n",
    "                    'encomenda nao',\n",
    "                    'encomenda atrasar',\n",
    "                    'problema envio',\n",
    "                    'problema correio',\n",
    "                    'atrasar encomenda']\n"
   ]
  },
  {
   "cell_type": "code",
   "execution_count": null,
   "metadata": {},
   "outputs": [],
   "source": [
    "datasetText.head()"
   ]
  },
  {
   "cell_type": "code",
   "execution_count": null,
   "metadata": {},
   "outputs": [],
   "source": [
    "def wordFinder(wordlist):\n",
    "\n",
    "    #padrão criado para buscas as palavras dentro do dataframe\n",
    "    pattern = rf\"{'|'.join(wordlist)}\"  \n",
    "    print(pattern)\n",
    "\n",
    "    #busca as palavras dentro do dataframe e cria um novo df com palavras e frequencia\n",
    "    topic = (datasetText[datasetText['comentarios'].str.contains(pattern)])\n",
    "\n",
    "\n",
    "    wp_topic = topic.count()/datasetText['comentarios'].count()\n",
    "\n",
    "    print(topic.count())\n",
    "    print(wp_topic)\n",
    "    print()"
   ]
  },
  {
   "cell_type": "code",
   "execution_count": null,
   "metadata": {},
   "outputs": [],
   "source": [
    "topicList = [entrega_prazo,\n",
    "             produto_qualidadeBoa, \n",
    "             elogio_loja, \n",
    "             entrega_atrasada, \n",
    "             produto_baixa_qualidade, \n",
    "             produto_errado, \n",
    "             produto_problema,\n",
    "             entrega_demorada]\n",
    "\n",
    "[wordFinder(i) for i in topicList]"
   ]
  }
 ],
 "metadata": {
  "kernelspec": {
   "display_name": "Python 3",
   "language": "python",
   "name": "python3"
  },
  "language_info": {
   "codemirror_mode": {
    "name": "ipython",
    "version": 3
   },
   "file_extension": ".py",
   "mimetype": "text/x-python",
   "name": "python",
   "nbconvert_exporter": "python",
   "pygments_lexer": "ipython3",
   "version": "3.11.4"
  }
 },
 "nbformat": 4,
 "nbformat_minor": 2
}
